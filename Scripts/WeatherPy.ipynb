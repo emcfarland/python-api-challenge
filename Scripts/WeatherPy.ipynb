{
 "cells": [
  {
   "cell_type": "markdown",
   "metadata": {},
   "source": [
    "# WeatherPy\n",
    "----\n",
    "\n",
    "#### Note\n",
    "* Instructions have been included for each segment. You do not have to follow them exactly, but they are included to help you think through the steps."
   ]
  },
  {
   "cell_type": "code",
   "execution_count": 1,
   "metadata": {
    "scrolled": true
   },
   "outputs": [],
   "source": [
    "# Dependencies and Setup\n",
    "import matplotlib.pyplot as plt\n",
    "import pandas as pd\n",
    "import numpy as np\n",
    "import requests\n",
    "import time\n",
    "from scipy.stats import linregress\n",
    "\n",
    "# Import API key\n",
    "from api_keys import weather_api_key\n",
    "\n",
    "# Incorporated citipy to determine city based on latitude and longitude\n",
    "from citipy import citipy\n",
    "\n",
    "# Output File (CSV)\n",
    "output_data_file = \"../output-data/cities.csv\"\n",
    "\n",
    "# Range of latitudes and longitudes\n",
    "lat_range = (-90, 90)\n",
    "lng_range = (-180, 180)"
   ]
  },
  {
   "cell_type": "markdown",
   "metadata": {},
   "source": [
    "## Generate Cities List"
   ]
  },
  {
   "cell_type": "code",
   "execution_count": 2,
   "metadata": {},
   "outputs": [
    {
     "name": "stdout",
     "output_type": "stream",
     "text": [
      "609\n"
     ]
    }
   ],
   "source": [
    "# List for holding lat_lngs and cities\n",
    "lat_lngs = []\n",
    "cities = []\n",
    "\n",
    "# Create a set of random lat and lng combinations\n",
    "lats = np.random.uniform(lat_range[0], lat_range[1], size=1500)\n",
    "lngs = np.random.uniform(lng_range[0], lng_range[1], size=1500)\n",
    "lat_lngs = zip(lats, lngs)\n",
    "\n",
    "# Identify nearest city for each lat, lng combination\n",
    "for lat_lng in lat_lngs:\n",
    "    city = citipy.nearest_city(lat_lng[0], lat_lng[1]).city_name\n",
    "    \n",
    "    # If the city is unique, then add it to a our cities list\n",
    "    if city not in cities:\n",
    "        cities.append(city)\n",
    "\n",
    "# Print the city count to confirm sufficient count\n",
    "print(f\"{len(cities)}\")"
   ]
  },
  {
   "cell_type": "markdown",
   "metadata": {},
   "source": [
    "## Perform API Calls\n",
    "* Perform a weather check on each city using a series of successive API calls.\n",
    "* Include a print log of each city as it'sbeing processed (with the city number and city name).\n"
   ]
  },
  {
   "cell_type": "code",
   "execution_count": 3,
   "metadata": {},
   "outputs": [
    {
     "ename": "NameError",
     "evalue": "name 'url' is not defined",
     "output_type": "error",
     "traceback": [
      "\u001b[1;31m---------------------------------------------------------------------------\u001b[0m",
      "\u001b[1;31mNameError\u001b[0m                                 Traceback (most recent call last)",
      "\u001b[1;32m<ipython-input-3-f22a621c290f>\u001b[0m in \u001b[0;36m<module>\u001b[1;34m\u001b[0m\n\u001b[1;32m----> 1\u001b[1;33m \u001b[0mquery_url\u001b[0m \u001b[1;33m=\u001b[0m \u001b[1;34mf\"{url}appid={weather_api_key}&units={units}&q=mizpe ramon\"\u001b[0m\u001b[1;33m\u001b[0m\u001b[1;33m\u001b[0m\u001b[0m\n\u001b[0m\u001b[0;32m      2\u001b[0m \u001b[0mresponse\u001b[0m \u001b[1;33m=\u001b[0m \u001b[0mrequests\u001b[0m\u001b[1;33m.\u001b[0m\u001b[0mget\u001b[0m\u001b[1;33m(\u001b[0m\u001b[0mquery_url\u001b[0m\u001b[1;33m)\u001b[0m\u001b[1;33m.\u001b[0m\u001b[0mjson\u001b[0m\u001b[1;33m(\u001b[0m\u001b[1;33m)\u001b[0m\u001b[1;33m\u001b[0m\u001b[1;33m\u001b[0m\u001b[0m\n\u001b[0;32m      3\u001b[0m \u001b[0mresponse\u001b[0m\u001b[1;33m\u001b[0m\u001b[1;33m\u001b[0m\u001b[0m\n",
      "\u001b[1;31mNameError\u001b[0m: name 'url' is not defined"
     ]
    }
   ],
   "source": []
  },
  {
   "cell_type": "code",
   "execution_count": 4,
   "metadata": {},
   "outputs": [
    {
     "name": "stdout",
     "output_type": "stream",
     "text": [
      "Processing record 1 of 609 | bluff\n",
      "Processing record 2 of 609 | chillicothe\n",
      "Processing record 3 of 609 | ushuaia\n",
      "Processing record 4 of 609 | arraial do cabo\n",
      "Processing record 5 of 609 | antalaha\n",
      "Processing record 6 of 609 | codrington\n",
      "Processing record 7 of 609 | rikitea\n",
      "Processing record 8 of 609 | qaanaaq\n",
      "Processing record 9 of 609 | saint-philippe\n",
      "Processing record 10 of 609 | castro\n",
      "Processing record 11 of 609 | bilma\n",
      "Processing record 12 of 609 | miles city\n",
      "Processing record 13 of 609 | belushya guba not found\n",
      "Processing record 14 of 609 | atuona\n",
      "Processing record 15 of 609 | airai\n",
      "Processing record 16 of 609 | kapaa\n",
      "Processing record 17 of 609 | port alfred\n",
      "Processing record 18 of 609 | tuktoyaktuk\n",
      "Processing record 19 of 609 | tommot\n",
      "Processing record 20 of 609 | saskylakh\n",
      "Processing record 21 of 609 | khonuu not found\n",
      "Processing record 22 of 609 | halalo not found\n",
      "Processing record 23 of 609 | taolanaro not found\n",
      "Processing record 24 of 609 | kruisfontein\n",
      "Processing record 25 of 609 | palabuhanratu not found\n",
      "Processing record 26 of 609 | chokurdakh\n",
      "Processing record 27 of 609 | bethel\n",
      "Processing record 28 of 609 | rungata not found\n",
      "Processing record 29 of 609 | tsihombe not found\n",
      "Processing record 30 of 609 | boyolangu\n",
      "Processing record 31 of 609 | nikolskoye\n",
      "Processing record 32 of 609 | wheeling\n",
      "Processing record 33 of 609 | nizhniy kuranakh\n",
      "Processing record 34 of 609 | sinnamary\n",
      "Processing record 35 of 609 | albany\n",
      "Processing record 36 of 609 | mahebourg\n",
      "Processing record 37 of 609 | san patricio\n",
      "Processing record 38 of 609 | salalah\n",
      "Processing record 39 of 609 | jardim\n",
      "Processing record 40 of 609 | omsukchan\n",
      "Processing record 41 of 609 | barentsburg not found\n",
      "Processing record 42 of 609 | batsfjord\n",
      "Processing record 43 of 609 | berezniki\n",
      "Processing record 44 of 609 | abu zabad\n",
      "Processing record 45 of 609 | kupang\n",
      "Processing record 46 of 609 | holme\n",
      "Processing record 47 of 609 | dingle\n",
      "Processing record 48 of 609 | saldanha\n",
      "Processing record 49 of 609 | nishihara\n",
      "Processing record 50 of 609 | hermanus\n",
      "Processing record 51 of 609 | hirara\n",
      "Processing record 52 of 609 | bredasdorp\n",
      "Processing record 53 of 609 | upernavik\n",
      "Processing record 54 of 609 | padang\n",
      "Processing record 55 of 609 | karaul not found\n",
      "Processing record 56 of 609 | sassandra\n",
      "Processing record 57 of 609 | shingu\n",
      "Processing record 58 of 609 | san andres\n",
      "Processing record 59 of 609 | pryazha\n",
      "Processing record 60 of 609 | beringovskiy\n",
      "Processing record 61 of 609 | urubicha\n",
      "Processing record 62 of 609 | faanui\n",
      "Processing record 63 of 609 | hobart\n",
      "Processing record 64 of 609 | hithadhoo\n",
      "Processing record 65 of 609 | port hardy\n",
      "Processing record 66 of 609 | yellowknife\n",
      "Processing record 67 of 609 | aleksandrov\n",
      "Processing record 68 of 609 | ngukurr not found\n",
      "Processing record 69 of 609 | gladstone\n",
      "Processing record 70 of 609 | tasiilaq\n",
      "Processing record 71 of 609 | port elizabeth\n",
      "Processing record 72 of 609 | avarua\n",
      "Processing record 73 of 609 | illoqqortoormiut not found\n",
      "Processing record 74 of 609 | jamestown\n",
      "Processing record 75 of 609 | diffa\n",
      "Processing record 76 of 609 | puerto cabezas\n",
      "Processing record 77 of 609 | delvine\n",
      "Processing record 78 of 609 | vaini\n",
      "Processing record 79 of 609 | samusu not found\n",
      "Processing record 80 of 609 | kano\n",
      "Processing record 81 of 609 | kisangani\n",
      "Processing record 82 of 609 | abnub\n",
      "Processing record 83 of 609 | khatanga\n",
      "Processing record 84 of 609 | tuatapere\n",
      "Processing record 85 of 609 | norman wells\n",
      "Processing record 86 of 609 | busselton\n",
      "Processing record 87 of 609 | victoria\n",
      "Processing record 88 of 609 | afmadu not found\n",
      "Processing record 89 of 609 | torbay\n",
      "Processing record 90 of 609 | tongzi\n",
      "Processing record 91 of 609 | san matias\n",
      "Processing record 92 of 609 | davila\n",
      "Processing record 93 of 609 | susangerd\n",
      "Processing record 94 of 609 | barrow\n",
      "Processing record 95 of 609 | kahului\n",
      "Processing record 96 of 609 | chuy\n",
      "Processing record 97 of 609 | miyako\n",
      "Processing record 98 of 609 | voyvozh\n",
      "Processing record 99 of 609 | dikson\n",
      "Processing record 100 of 609 | songea\n",
      "Processing record 101 of 609 | attawapiskat not found\n",
      "Processing record 102 of 609 | lebu\n",
      "Processing record 103 of 609 | morki\n",
      "Processing record 104 of 609 | okhotsk\n",
      "Processing record 105 of 609 | umm kaddadah\n",
      "Processing record 106 of 609 | nizhneyansk not found\n",
      "Processing record 107 of 609 | lata\n",
      "Processing record 108 of 609 | mataura\n",
      "Processing record 109 of 609 | koslan\n",
      "Processing record 110 of 609 | tres arroyos\n",
      "Processing record 111 of 609 | paradwip not found\n",
      "Processing record 112 of 609 | kodiak\n",
      "Processing record 113 of 609 | mys shmidta not found\n",
      "Processing record 114 of 609 | sitka\n",
      "Processing record 115 of 609 | abu jubayhah not found\n",
      "Processing record 116 of 609 | shihezi\n",
      "Processing record 117 of 609 | den helder\n",
      "Processing record 118 of 609 | benemerito de las americas\n",
      "Processing record 119 of 609 | bengkulu\n",
      "Processing record 120 of 609 | harper\n",
      "Processing record 121 of 609 | hibbing\n",
      "Processing record 122 of 609 | port lincoln\n",
      "Processing record 123 of 609 | pitogo\n",
      "Processing record 124 of 609 | te anau\n",
      "Processing record 125 of 609 | whitehorse\n",
      "Processing record 126 of 609 | moshkovo\n",
      "Processing record 127 of 609 | roald\n",
      "Processing record 128 of 609 | sibolga\n",
      "Processing record 129 of 609 | bambous virieux\n",
      "Processing record 130 of 609 | carnarvon\n",
      "Processing record 131 of 609 | hilo\n",
      "Processing record 132 of 609 | luderitz\n",
      "Processing record 133 of 609 | ondorhaan not found\n",
      "Processing record 134 of 609 | dubti\n",
      "Processing record 135 of 609 | mar del plata\n",
      "Processing record 136 of 609 | vaitupu not found\n",
      "Processing record 137 of 609 | bongandanga\n",
      "Processing record 138 of 609 | hearst\n",
      "Processing record 139 of 609 | vengerovo\n",
      "Processing record 140 of 609 | karratha\n",
      "Processing record 141 of 609 | sao joao da barra\n",
      "Processing record 142 of 609 | butaritari\n",
      "Processing record 143 of 609 | asau\n",
      "Processing record 144 of 609 | kavaratti\n",
      "Processing record 145 of 609 | itarema\n",
      "Processing record 146 of 609 | estelle\n",
      "Processing record 147 of 609 | hervey bay\n",
      "Processing record 148 of 609 | sataua not found\n",
      "Processing record 149 of 609 | half moon bay\n",
      "Processing record 150 of 609 | yuli\n",
      "Processing record 151 of 609 | esperance\n",
      "Processing record 152 of 609 | anadyr\n",
      "Processing record 153 of 609 | guljanci not found\n",
      "Processing record 154 of 609 | lillooet\n",
      "Processing record 155 of 609 | vila\n",
      "Processing record 156 of 609 | rundu\n",
      "Processing record 157 of 609 | saint-augustin\n",
      "Processing record 158 of 609 | fortuna\n",
      "Processing record 159 of 609 | burnie\n",
      "Processing record 160 of 609 | namatanai\n",
      "Processing record 161 of 609 | nanortalik\n",
      "Processing record 162 of 609 | punta arenas\n",
      "Processing record 163 of 609 | saleaula not found\n",
      "Processing record 164 of 609 | cape town\n",
      "Processing record 165 of 609 | conakry\n",
      "Processing record 166 of 609 | huarmey\n",
      "Processing record 167 of 609 | puerto ayora\n",
      "Processing record 168 of 609 | maxixe\n",
      "Processing record 169 of 609 | pitimbu\n",
      "Processing record 170 of 609 | camocim\n",
      "Processing record 171 of 609 | bambanglipuro\n",
      "Processing record 172 of 609 | alihe\n",
      "Processing record 173 of 609 | klaksvik\n",
      "Processing record 174 of 609 | coffs harbour\n",
      "Processing record 175 of 609 | san jose\n",
      "Processing record 176 of 609 | soure\n",
      "Processing record 177 of 609 | liverpool\n",
      "Processing record 178 of 609 | gat\n",
      "Processing record 179 of 609 | sola\n",
      "Processing record 180 of 609 | kavieng\n",
      "Processing record 181 of 609 | talnakh\n",
      "Processing record 182 of 609 | juneau\n",
      "Processing record 183 of 609 | celestun\n",
      "Processing record 184 of 609 | hlukhiv\n",
      "Processing record 185 of 609 | lewistown\n",
      "Processing record 186 of 609 | gainesville\n",
      "Processing record 187 of 609 | mildura\n",
      "Processing record 188 of 609 | puerto escondido\n",
      "Processing record 189 of 609 | nerchinskiy zavod\n",
      "Processing record 190 of 609 | ostrovnoy\n",
      "Processing record 191 of 609 | pisco\n",
      "Processing record 192 of 609 | sal rei\n",
      "Processing record 193 of 609 | ahipara\n",
      "Processing record 194 of 609 | batemans bay\n",
      "Processing record 195 of 609 | hofn\n",
      "Processing record 196 of 609 | geraldton\n",
      "Processing record 197 of 609 | new norfolk\n",
      "Processing record 198 of 609 | provideniya\n",
      "Processing record 199 of 609 | tuy hoa\n",
      "Processing record 200 of 609 | mersing\n"
     ]
    },
    {
     "name": "stdout",
     "output_type": "stream",
     "text": [
      "Processing record 201 of 609 | luena\n",
      "Processing record 202 of 609 | nelson\n",
      "Processing record 203 of 609 | oranjestad\n",
      "Processing record 204 of 609 | padilla\n",
      "Processing record 205 of 609 | pangnirtung\n",
      "Processing record 206 of 609 | saint-joseph\n",
      "Processing record 207 of 609 | vostok\n",
      "Processing record 208 of 609 | viesca\n",
      "Processing record 209 of 609 | constitucion\n",
      "Processing record 210 of 609 | sinjar\n",
      "Processing record 211 of 609 | springbok\n",
      "Processing record 212 of 609 | itaituba\n",
      "Processing record 213 of 609 | lompoc\n",
      "Processing record 214 of 609 | necochea\n",
      "Processing record 215 of 609 | havelock\n",
      "Processing record 216 of 609 | jimma\n",
      "Processing record 217 of 609 | cabo san lucas\n",
      "Processing record 218 of 609 | sentyabrskiy not found\n",
      "Processing record 219 of 609 | rio verde de mato grosso\n",
      "Processing record 220 of 609 | regina\n",
      "Processing record 221 of 609 | alta floresta\n",
      "Processing record 222 of 609 | tumannyy not found\n",
      "Processing record 223 of 609 | ponta do sol\n",
      "Processing record 224 of 609 | lerwick\n",
      "Processing record 225 of 609 | narsaq\n",
      "Processing record 226 of 609 | loukhi\n",
      "Processing record 227 of 609 | chicama\n",
      "Processing record 228 of 609 | maumere\n",
      "Processing record 229 of 609 | komsomolskiy\n",
      "Processing record 230 of 609 | ponta delgada\n",
      "Processing record 231 of 609 | trofors\n",
      "Processing record 232 of 609 | iqaluit\n",
      "Processing record 233 of 609 | guata not found\n",
      "Processing record 234 of 609 | eyl\n",
      "Processing record 235 of 609 | vanavara\n",
      "Processing record 236 of 609 | caravelas\n",
      "Processing record 237 of 609 | lagoa\n",
      "Processing record 238 of 609 | aswan\n",
      "Processing record 239 of 609 | puerto madryn\n",
      "Processing record 240 of 609 | laoag\n",
      "Processing record 241 of 609 | iquitos\n",
      "Processing record 242 of 609 | vanimo\n",
      "Processing record 243 of 609 | morehead\n",
      "Processing record 244 of 609 | ballina\n",
      "Processing record 245 of 609 | srednekolymsk\n",
      "Processing record 246 of 609 | leningradskiy\n",
      "Processing record 247 of 609 | nanchang\n",
      "Processing record 248 of 609 | lorengau\n",
      "Processing record 249 of 609 | aklavik\n",
      "Processing record 250 of 609 | shagonar\n",
      "Processing record 251 of 609 | emba\n",
      "Processing record 252 of 609 | ust-kamchatsk not found\n",
      "Processing record 253 of 609 | marcona not found\n",
      "Processing record 254 of 609 | yantzaza\n",
      "Processing record 255 of 609 | turukhansk\n",
      "Processing record 256 of 609 | bronnoysund\n",
      "Processing record 257 of 609 | malinyi\n",
      "Processing record 258 of 609 | amderma not found\n",
      "Processing record 259 of 609 | thompson\n",
      "Processing record 260 of 609 | egvekinot\n",
      "Processing record 261 of 609 | phan thiet\n",
      "Processing record 262 of 609 | ipero\n",
      "Processing record 263 of 609 | isla mujeres\n",
      "Processing record 264 of 609 | abu kamal\n",
      "Processing record 265 of 609 | ryazhsk\n",
      "Processing record 266 of 609 | noumea\n",
      "Processing record 267 of 609 | yerbogachen\n",
      "Processing record 268 of 609 | batagay-alyta\n",
      "Processing record 269 of 609 | maragogi\n",
      "Processing record 270 of 609 | valley\n",
      "Processing record 271 of 609 | katsuura\n",
      "Processing record 272 of 609 | agirish\n",
      "Processing record 273 of 609 | bathsheba\n",
      "Processing record 274 of 609 | chipinge\n",
      "Processing record 275 of 609 | grindavik\n",
      "Processing record 276 of 609 | bhawanipatna\n",
      "Processing record 277 of 609 | tura\n",
      "Processing record 278 of 609 | kaitangata\n",
      "Processing record 279 of 609 | tiksi\n",
      "Processing record 280 of 609 | tlacotepec\n",
      "Processing record 281 of 609 | broken hill\n",
      "Processing record 282 of 609 | east london\n",
      "Processing record 283 of 609 | mount gambier\n",
      "Processing record 284 of 609 | ambon\n",
      "Processing record 285 of 609 | hami\n",
      "Processing record 286 of 609 | aksu\n",
      "Processing record 287 of 609 | cidreira\n",
      "Processing record 288 of 609 | olafsvik\n",
      "Processing record 289 of 609 | cockburn harbour not found\n",
      "Processing record 290 of 609 | sao jose da coroa grande\n",
      "Processing record 291 of 609 | west norriton\n",
      "Processing record 292 of 609 | proletariy\n",
      "Processing record 293 of 609 | cayenne\n",
      "Processing record 294 of 609 | dubna\n",
      "Processing record 295 of 609 | yomitan not found\n",
      "Processing record 296 of 609 | bereda\n",
      "Processing record 297 of 609 | norsup\n",
      "Processing record 298 of 609 | acarau\n",
      "Processing record 299 of 609 | satitoa not found\n",
      "Processing record 300 of 609 | coahuayana\n",
      "Processing record 301 of 609 | punta cardon\n",
      "Processing record 302 of 609 | goderich\n",
      "Processing record 303 of 609 | luanda\n",
      "Processing record 304 of 609 | bahia blanca\n",
      "Processing record 305 of 609 | tabou\n",
      "Processing record 306 of 609 | mergui not found\n",
      "Processing record 307 of 609 | taoudenni\n",
      "Processing record 308 of 609 | mae ramat\n",
      "Processing record 309 of 609 | potgietersrus not found\n",
      "Processing record 310 of 609 | altay\n",
      "Processing record 311 of 609 | longyearbyen\n",
      "Processing record 312 of 609 | sao miguel do araguaia\n",
      "Processing record 313 of 609 | tautira\n",
      "Processing record 314 of 609 | yeppoon\n",
      "Processing record 315 of 609 | fairbanks\n",
      "Processing record 316 of 609 | souillac\n",
      "Processing record 317 of 609 | belmonte\n",
      "Processing record 318 of 609 | cruzeiro do sul\n",
      "Processing record 319 of 609 | burkhala not found\n",
      "Processing record 320 of 609 | kuche not found\n",
      "Processing record 321 of 609 | cabedelo\n",
      "Processing record 322 of 609 | gamba\n",
      "Processing record 323 of 609 | touros\n",
      "Processing record 324 of 609 | sestri levante\n",
      "Processing record 325 of 609 | santa rosa\n",
      "Processing record 326 of 609 | phulji\n",
      "Processing record 327 of 609 | bareli\n",
      "Processing record 328 of 609 | thinadhoo\n",
      "Processing record 329 of 609 | marsh harbour\n",
      "Processing record 330 of 609 | kumluca\n",
      "Processing record 331 of 609 | severo-yeniseyskiy\n",
      "Processing record 332 of 609 | clyde river\n",
      "Processing record 333 of 609 | hobyo\n",
      "Processing record 334 of 609 | lichinga\n",
      "Processing record 335 of 609 | comodoro rivadavia\n",
      "Processing record 336 of 609 | apple valley\n",
      "Processing record 337 of 609 | sorland\n",
      "Processing record 338 of 609 | cairns\n",
      "Processing record 339 of 609 | kargapolye not found\n",
      "Processing record 340 of 609 | ratnagiri\n",
      "Processing record 341 of 609 | ankang\n",
      "Processing record 342 of 609 | mizdah\n",
      "Processing record 343 of 609 | brenham\n",
      "Processing record 344 of 609 | ipixuna\n",
      "Processing record 345 of 609 | isangel\n",
      "Processing record 346 of 609 | poum\n",
      "Processing record 347 of 609 | saint-pierre\n",
      "Processing record 348 of 609 | linguere\n",
      "Processing record 349 of 609 | arenapolis\n",
      "Processing record 350 of 609 | chumikan\n",
      "Processing record 351 of 609 | rancho palos verdes\n",
      "Processing record 352 of 609 | nguiu not found\n",
      "Processing record 353 of 609 | sampit\n",
      "Processing record 354 of 609 | borama not found\n",
      "Processing record 355 of 609 | marsa matruh\n",
      "Processing record 356 of 609 | urucui\n",
      "Processing record 357 of 609 | saint george\n",
      "Processing record 358 of 609 | sorong\n",
      "Processing record 359 of 609 | teguise\n",
      "Processing record 360 of 609 | tucuman\n",
      "Processing record 361 of 609 | korla\n",
      "Processing record 362 of 609 | nyurba\n",
      "Processing record 363 of 609 | vila franca do campo\n",
      "Processing record 364 of 609 | kalat\n",
      "Processing record 365 of 609 | bur gabo not found\n",
      "Processing record 366 of 609 | meyungs not found\n",
      "Processing record 367 of 609 | cherskiy\n",
      "Processing record 368 of 609 | octeville\n",
      "Processing record 369 of 609 | sosua\n",
      "Processing record 370 of 609 | pakdasht\n",
      "Processing record 371 of 609 | siderno\n",
      "Processing record 372 of 609 | angoche\n",
      "Processing record 373 of 609 | alyangula\n",
      "Processing record 374 of 609 | cabinda\n",
      "Processing record 375 of 609 | muravlenko\n",
      "Processing record 376 of 609 | tomatlan\n",
      "Processing record 377 of 609 | vao\n",
      "Processing record 378 of 609 | bose\n",
      "Processing record 379 of 609 | ambovombe\n",
      "Processing record 380 of 609 | tayoltita\n",
      "Processing record 381 of 609 | coolum beach\n",
      "Processing record 382 of 609 | lasa\n",
      "Processing record 383 of 609 | shabqadar\n",
      "Processing record 384 of 609 | ixtapa\n",
      "Processing record 385 of 609 | andenes\n",
      "Processing record 386 of 609 | arrecife\n",
      "Processing record 387 of 609 | berlevag\n",
      "Processing record 388 of 609 | kalianget\n",
      "Processing record 389 of 609 | san cristobal\n",
      "Processing record 390 of 609 | camacha\n",
      "Processing record 391 of 609 | sioux lookout\n",
      "Processing record 392 of 609 | yaguajay\n",
      "Processing record 393 of 609 | quatre cocos\n",
      "Processing record 394 of 609 | palauig\n",
      "Processing record 395 of 609 | hillsboro\n",
      "Processing record 396 of 609 | sawakin\n",
      "Processing record 397 of 609 | college\n",
      "Processing record 398 of 609 | port moresby\n"
     ]
    },
    {
     "name": "stdout",
     "output_type": "stream",
     "text": [
      "Processing record 399 of 609 | sorkjosen\n",
      "Processing record 400 of 609 | morant bay\n",
      "Processing record 401 of 609 | bokspits not found\n",
      "Processing record 402 of 609 | tocopilla\n",
      "Processing record 403 of 609 | khandyga\n",
      "Processing record 404 of 609 | dera din panah not found\n",
      "Processing record 405 of 609 | port macquarie\n",
      "Processing record 406 of 609 | bonthe\n",
      "Processing record 407 of 609 | igrim\n",
      "Processing record 408 of 609 | mazamari\n",
      "Processing record 409 of 609 | gizo\n",
      "Processing record 410 of 609 | west wendover\n",
      "Processing record 411 of 609 | najran\n",
      "Processing record 412 of 609 | viedma\n",
      "Processing record 413 of 609 | yulara\n",
      "Processing record 414 of 609 | arman\n",
      "Processing record 415 of 609 | grong\n",
      "Processing record 416 of 609 | mayo\n",
      "Processing record 417 of 609 | kyshtym\n",
      "Processing record 418 of 609 | buala\n",
      "Processing record 419 of 609 | bani\n",
      "Processing record 420 of 609 | sandviken\n",
      "Processing record 421 of 609 | ancud\n",
      "Processing record 422 of 609 | port augusta\n",
      "Processing record 423 of 609 | logan\n",
      "Processing record 424 of 609 | frutal\n",
      "Processing record 425 of 609 | severo-kurilsk\n",
      "Processing record 426 of 609 | gerash\n",
      "Processing record 427 of 609 | badou\n",
      "Processing record 428 of 609 | samarai\n",
      "Processing record 429 of 609 | hasaki\n",
      "Processing record 430 of 609 | ulladulla\n",
      "Processing record 431 of 609 | praia\n",
      "Processing record 432 of 609 | ribeira grande\n",
      "Processing record 433 of 609 | mehamn\n",
      "Processing record 434 of 609 | ripky\n",
      "Processing record 435 of 609 | verkh-usugli\n",
      "Processing record 436 of 609 | ostersund\n",
      "Processing record 437 of 609 | olinda\n",
      "Processing record 438 of 609 | gharo\n",
      "Processing record 439 of 609 | tias\n",
      "Processing record 440 of 609 | petropavlivka\n",
      "Processing record 441 of 609 | laguna\n",
      "Processing record 442 of 609 | shubarshi\n",
      "Processing record 443 of 609 | metu\n",
      "Processing record 444 of 609 | plettenberg bay\n",
      "Processing record 445 of 609 | punta alta\n",
      "Processing record 446 of 609 | naples\n",
      "Processing record 447 of 609 | pevek\n",
      "Processing record 448 of 609 | namibe\n",
      "Processing record 449 of 609 | varna\n",
      "Processing record 450 of 609 | chardara\n",
      "Processing record 451 of 609 | hualmay\n",
      "Processing record 452 of 609 | puerto quijarro\n",
      "Processing record 453 of 609 | dataganj\n",
      "Processing record 454 of 609 | coquimbo\n",
      "Processing record 455 of 609 | zhanaozen\n",
      "Processing record 456 of 609 | kushmurun\n",
      "Processing record 457 of 609 | changji\n",
      "Processing record 458 of 609 | ljungby\n",
      "Processing record 459 of 609 | sao miguel do tapuio\n",
      "Processing record 460 of 609 | garowe\n",
      "Processing record 461 of 609 | kahta\n",
      "Processing record 462 of 609 | el dorado\n",
      "Processing record 463 of 609 | sao filipe\n",
      "Processing record 464 of 609 | vestmanna\n",
      "Processing record 465 of 609 | orocue\n",
      "Processing record 466 of 609 | kerema\n",
      "Processing record 467 of 609 | atyashevo\n",
      "Processing record 468 of 609 | silleda\n",
      "Processing record 469 of 609 | winona\n",
      "Processing record 470 of 609 | maceio\n",
      "Processing record 471 of 609 | avera\n",
      "Processing record 472 of 609 | waipawa\n",
      "Processing record 473 of 609 | pasan\n",
      "Processing record 474 of 609 | kurilsk\n",
      "Processing record 475 of 609 | miquelon\n",
      "Processing record 476 of 609 | minudasht\n",
      "Processing record 477 of 609 | taksimo\n",
      "Processing record 478 of 609 | alnashi\n",
      "Processing record 479 of 609 | teruel\n",
      "Processing record 480 of 609 | bedburg\n",
      "Processing record 481 of 609 | goure\n",
      "Processing record 482 of 609 | borogontsy\n",
      "Processing record 483 of 609 | nakasongola\n",
      "Processing record 484 of 609 | mbumi\n",
      "Processing record 485 of 609 | rovaniemi\n",
      "Processing record 486 of 609 | ukiah\n",
      "Processing record 487 of 609 | brae\n",
      "Processing record 488 of 609 | panama city\n",
      "Processing record 489 of 609 | sergeyevka\n",
      "Processing record 490 of 609 | aden\n",
      "Processing record 491 of 609 | porto empedocle\n",
      "Processing record 492 of 609 | nouadhibou\n",
      "Processing record 493 of 609 | auki\n",
      "Processing record 494 of 609 | lajeado\n",
      "Processing record 495 of 609 | lazaro cardenas\n",
      "Processing record 496 of 609 | doctor arroyo\n",
      "Processing record 497 of 609 | kaeo\n",
      "Processing record 498 of 609 | mount isa\n",
      "Processing record 499 of 609 | bawku\n",
      "Processing record 500 of 609 | mbini\n",
      "Processing record 501 of 609 | mola di bari\n",
      "Processing record 502 of 609 | guatire\n",
      "Processing record 503 of 609 | dongning\n",
      "Processing record 504 of 609 | ananas\n",
      "Processing record 505 of 609 | sauda\n",
      "Processing record 506 of 609 | portland\n",
      "Processing record 507 of 609 | marawi\n",
      "Processing record 508 of 609 | pozo colorado\n",
      "Processing record 509 of 609 | vucje\n",
      "Processing record 510 of 609 | pousat not found\n",
      "Processing record 511 of 609 | murdochville\n",
      "Processing record 512 of 609 | belogorsk\n",
      "Processing record 513 of 609 | pantai remis\n",
      "Processing record 514 of 609 | umzimvubu not found\n",
      "Processing record 515 of 609 | loreto\n",
      "Processing record 516 of 609 | cururupu\n",
      "Processing record 517 of 609 | klyuchi\n",
      "Processing record 518 of 609 | pasighat\n",
      "Processing record 519 of 609 | rawson\n",
      "Processing record 520 of 609 | nizhnevartovsk\n",
      "Processing record 521 of 609 | alofi\n",
      "Processing record 522 of 609 | asfi\n",
      "Processing record 523 of 609 | urengoy\n",
      "Processing record 524 of 609 | northam\n",
      "Processing record 525 of 609 | rovinj\n",
      "Processing record 526 of 609 | vila velha\n",
      "Processing record 527 of 609 | kurchum\n",
      "Processing record 528 of 609 | svolvaer\n",
      "Processing record 529 of 609 | hambantota\n",
      "Processing record 530 of 609 | baldwin\n",
      "Processing record 531 of 609 | benton harbor\n",
      "Processing record 532 of 609 | plastun\n",
      "Processing record 533 of 609 | amapa\n",
      "Processing record 534 of 609 | chaoyang\n",
      "Processing record 535 of 609 | grafton\n",
      "Processing record 536 of 609 | sidi bu zayd not found\n",
      "Processing record 537 of 609 | raudeberg\n",
      "Processing record 538 of 609 | halifax\n",
      "Processing record 539 of 609 | abu samrah\n",
      "Processing record 540 of 609 | volda\n",
      "Processing record 541 of 609 | saint-maximin-la-sainte-baume\n",
      "Processing record 542 of 609 | kostarazion not found\n",
      "Processing record 543 of 609 | imbituba\n",
      "Processing record 544 of 609 | boende\n",
      "Processing record 545 of 609 | timon\n",
      "Processing record 546 of 609 | aplahoue\n",
      "Processing record 547 of 609 | vung tau\n",
      "Processing record 548 of 609 | seoul\n",
      "Processing record 549 of 609 | atar\n",
      "Processing record 550 of 609 | progress\n",
      "Processing record 551 of 609 | yar-sale\n",
      "Processing record 552 of 609 | manokwari\n",
      "Processing record 553 of 609 | nurobod\n",
      "Processing record 554 of 609 | parana\n",
      "Processing record 555 of 609 | alexandria\n",
      "Processing record 556 of 609 | santa cruz de la palma\n",
      "Processing record 557 of 609 | bayevo\n",
      "Processing record 558 of 609 | qobustan\n",
      "Processing record 559 of 609 | chagda not found\n",
      "Processing record 560 of 609 | broome\n",
      "Processing record 561 of 609 | kasongo-lunda\n",
      "Processing record 562 of 609 | camaqua\n",
      "Processing record 563 of 609 | kirksville\n",
      "Processing record 564 of 609 | georgetown\n",
      "Processing record 565 of 609 | praia da vitoria\n",
      "Processing record 566 of 609 | palu\n",
      "Processing record 567 of 609 | west bay\n",
      "Processing record 568 of 609 | port keats\n",
      "Processing record 569 of 609 | tacuati\n",
      "Processing record 570 of 609 | bella union\n",
      "Processing record 571 of 609 | aracruz\n",
      "Processing record 572 of 609 | kloulklubed\n",
      "Processing record 573 of 609 | darlawn\n",
      "Processing record 574 of 609 | kungurtug\n",
      "Processing record 575 of 609 | kutum\n",
      "Processing record 576 of 609 | ca mau\n",
      "Processing record 577 of 609 | mackay\n",
      "Processing record 578 of 609 | syamzha\n",
      "Processing record 579 of 609 | mantua\n",
      "Processing record 580 of 609 | benguela\n",
      "Processing record 581 of 609 | buraydah\n",
      "Processing record 582 of 609 | ozinki\n",
      "Processing record 583 of 609 | verkhnyaya inta\n",
      "Processing record 584 of 609 | alugan\n",
      "Processing record 585 of 609 | margate\n",
      "Processing record 586 of 609 | inhambane\n",
      "Processing record 587 of 609 | magalia\n",
      "Processing record 588 of 609 | naze\n",
      "Processing record 589 of 609 | stykkisholmur\n",
      "Processing record 590 of 609 | champerico\n",
      "Processing record 591 of 609 | sremska mitrovica\n",
      "Processing record 592 of 609 | buan\n",
      "Processing record 593 of 609 | rudbar\n",
      "Processing record 594 of 609 | mareeba\n",
      "Processing record 595 of 609 | nago\n",
      "Processing record 596 of 609 | conceicao do araguaia\n",
      "Processing record 597 of 609 | iberia\n",
      "Processing record 598 of 609 | tiarei\n",
      "Processing record 599 of 609 | lufilufi\n",
      "Processing record 600 of 609 | griffith\n",
      "Processing record 601 of 609 | mackenzie\n"
     ]
    },
    {
     "name": "stdout",
     "output_type": "stream",
     "text": [
      "Processing record 602 of 609 | manggar\n",
      "Processing record 603 of 609 | lenger\n",
      "Processing record 604 of 609 | haibowan not found\n",
      "Processing record 605 of 609 | riwaka\n",
      "Processing record 606 of 609 | mabaruma\n",
      "Processing record 607 of 609 | springfield\n",
      "Processing record 608 of 609 | port blair\n",
      "Processing record 609 of 609 | xai-xai\n"
     ]
    }
   ],
   "source": [
    "# Save config information.\n",
    "url = \"http://api.openweathermap.org/data/2.5/weather?\"\n",
    "units = \"metric\"\n",
    "\n",
    "# Build partial query URL\n",
    "query_url = f\"{url}appid={weather_api_key}&units={units}&q=\"\n",
    "\n",
    "# set up lists to hold reponse info\n",
    "city_list = []\n",
    "lat = []\n",
    "lng = []\n",
    "temp = []\n",
    "hmdty = []\n",
    "cloudi = []\n",
    "wspeed = []\n",
    "country = []\n",
    "date = []\n",
    "\n",
    "\n",
    "# Loop through the list of cities and perform a request for data on each\n",
    "for city in cities:\n",
    "    time.sleep(1.2)\n",
    "    response = requests.get(query_url + city).json()\n",
    "    try:\n",
    "        \n",
    "        \n",
    "        lat.append(response['coord']['lat'])\n",
    "        lng.append(response['coord']['lon'])\n",
    "        temp.append(response['main']['temp_max'])\n",
    "        hmdty.append(response['main']['humidity'])\n",
    "        cloudi.append(response['clouds']['all'])\n",
    "        wspeed.append(response['wind']['speed'])\n",
    "        country.append(response['sys']['country'])\n",
    "        date.append(response['dt'])\n",
    "        city_list.append(city)\n",
    "        print(f\"Processing record {cities.index(city)+1} of {len(cities)} | {city}\")\n",
    "    \n",
    "    except (ValueError, KeyError):\n",
    "        print(f\"Processing record {cities.index(city)+1} of {len(cities)} | {city} not found\")\n"
   ]
  },
  {
   "cell_type": "code",
   "execution_count": null,
   "metadata": {
    "scrolled": true
   },
   "outputs": [],
   "source": []
  },
  {
   "cell_type": "markdown",
   "metadata": {},
   "source": [
    "## Convert Raw Data to DataFrame\n",
    "* Save as csv"
   ]
  },
  {
   "cell_type": "code",
   "execution_count": 5,
   "metadata": {},
   "outputs": [
    {
     "data": {
      "text/html": [
       "<div>\n",
       "<style scoped>\n",
       "    .dataframe tbody tr th:only-of-type {\n",
       "        vertical-align: middle;\n",
       "    }\n",
       "\n",
       "    .dataframe tbody tr th {\n",
       "        vertical-align: top;\n",
       "    }\n",
       "\n",
       "    .dataframe thead th {\n",
       "        text-align: right;\n",
       "    }\n",
       "</style>\n",
       "<table border=\"1\" class=\"dataframe\">\n",
       "  <thead>\n",
       "    <tr style=\"text-align: right;\">\n",
       "      <th></th>\n",
       "      <th>City</th>\n",
       "      <th>Lat</th>\n",
       "      <th>Lng</th>\n",
       "      <th>Max Temp</th>\n",
       "      <th>Humidity</th>\n",
       "      <th>Cloudiness</th>\n",
       "      <th>Wind Speed</th>\n",
       "      <th>Country</th>\n",
       "      <th>Date</th>\n",
       "    </tr>\n",
       "  </thead>\n",
       "  <tbody>\n",
       "    <tr>\n",
       "      <th>0</th>\n",
       "      <td>bluff</td>\n",
       "      <td>-46.60</td>\n",
       "      <td>168.33</td>\n",
       "      <td>11.67</td>\n",
       "      <td>65</td>\n",
       "      <td>87</td>\n",
       "      <td>3.13</td>\n",
       "      <td>NZ</td>\n",
       "      <td>1602980156</td>\n",
       "    </tr>\n",
       "    <tr>\n",
       "      <th>1</th>\n",
       "      <td>chillicothe</td>\n",
       "      <td>39.33</td>\n",
       "      <td>-82.98</td>\n",
       "      <td>11.11</td>\n",
       "      <td>57</td>\n",
       "      <td>1</td>\n",
       "      <td>2.40</td>\n",
       "      <td>US</td>\n",
       "      <td>1602980062</td>\n",
       "    </tr>\n",
       "    <tr>\n",
       "      <th>2</th>\n",
       "      <td>ushuaia</td>\n",
       "      <td>-54.80</td>\n",
       "      <td>-68.30</td>\n",
       "      <td>6.00</td>\n",
       "      <td>75</td>\n",
       "      <td>75</td>\n",
       "      <td>9.30</td>\n",
       "      <td>AR</td>\n",
       "      <td>1602980158</td>\n",
       "    </tr>\n",
       "    <tr>\n",
       "      <th>3</th>\n",
       "      <td>arraial do cabo</td>\n",
       "      <td>-22.97</td>\n",
       "      <td>-42.03</td>\n",
       "      <td>21.63</td>\n",
       "      <td>79</td>\n",
       "      <td>2</td>\n",
       "      <td>5.03</td>\n",
       "      <td>BR</td>\n",
       "      <td>1602980160</td>\n",
       "    </tr>\n",
       "    <tr>\n",
       "      <th>4</th>\n",
       "      <td>antalaha</td>\n",
       "      <td>-14.90</td>\n",
       "      <td>50.28</td>\n",
       "      <td>21.12</td>\n",
       "      <td>86</td>\n",
       "      <td>42</td>\n",
       "      <td>2.87</td>\n",
       "      <td>MG</td>\n",
       "      <td>1602980161</td>\n",
       "    </tr>\n",
       "  </tbody>\n",
       "</table>\n",
       "</div>"
      ],
      "text/plain": [
       "              City    Lat     Lng  Max Temp  Humidity  Cloudiness  Wind Speed  \\\n",
       "0            bluff -46.60  168.33     11.67        65          87        3.13   \n",
       "1      chillicothe  39.33  -82.98     11.11        57           1        2.40   \n",
       "2          ushuaia -54.80  -68.30      6.00        75          75        9.30   \n",
       "3  arraial do cabo -22.97  -42.03     21.63        79           2        5.03   \n",
       "4         antalaha -14.90   50.28     21.12        86          42        2.87   \n",
       "\n",
       "  Country        Date  \n",
       "0      NZ  1602980156  \n",
       "1      US  1602980062  \n",
       "2      AR  1602980158  \n",
       "3      BR  1602980160  \n",
       "4      MG  1602980161  "
      ]
     },
     "execution_count": 5,
     "metadata": {},
     "output_type": "execute_result"
    }
   ],
   "source": [
    "weather_df = pd.DataFrame({\n",
    "    \"City\": city_list,\n",
    "    \"Lat\": lat,\n",
    "    \"Lng\": lng,\n",
    "    \"Max Temp\": temp,\n",
    "    \"Humidity\": hmdty,\n",
    "    \"Cloudiness\": cloudi,\n",
    "    \"Wind Speed\": wspeed,\n",
    "    \"Country\": country,\n",
    "    \"Date\": date\n",
    "})\n",
    "\n",
    "weather_df.to_csv(output_data_file)\n",
    "weather_df.head()"
   ]
  },
  {
   "cell_type": "code",
   "execution_count": 6,
   "metadata": {},
   "outputs": [],
   "source": [
    "weather_df = pd.read_csv(output_data_file)\n"
   ]
  },
  {
   "cell_type": "code",
   "execution_count": 16,
   "metadata": {},
   "outputs": [
    {
     "name": "stdout",
     "output_type": "stream",
     "text": [
      "2020-10-17\n"
     ]
    }
   ],
   "source": [
    "#pd.to_datetime(arg=weather_df[\"Date\"], errors=\"coerce\", utc=True, format=\"%d/%m/%Y\")\n",
    "from datetime import date\n",
    "\n",
    "graph_date = date.fromtimestamp(weather_df[\"Date\"][0])\n",
    "print(graph_date)"
   ]
  },
  {
   "cell_type": "markdown",
   "metadata": {},
   "source": [
    "## Plotting the Data\n",
    "* Use proper labeling of the plots using plot titles (including date of analysis) and axes labels.\n",
    "* Save the plotted figures as .pngs."
   ]
  },
  {
   "cell_type": "markdown",
   "metadata": {},
   "source": [
    "### Latitude vs. Temperature Plot"
   ]
  },
  {
   "cell_type": "code",
   "execution_count": 62,
   "metadata": {},
   "outputs": [],
   "source": [
    "def graphs(x_values, y_values):\n",
    "    graph_labels = {\n",
    "        \"Lat\": \"Latitude\",\n",
    "        \"Max Temp\": \"Max Temperature (degrees C)\",\n",
    "        \"Humidity\": \"Humidity (%)\",\n",
    "        \"Cloudiness\": \"Cloudiness (%)\",\n",
    "        \"Wind Speed\": \"Wind Speed (m/s)\"\n",
    "    }\n",
    "    plt.scatter(x_values, y_values, facecolors=\"skyblue\", edgecolors=\"b\")\n",
    "    plt.xlabel(graph_labels[x_values.name])\n",
    "    plt.ylabel(graph_labels[y_values.name])\n",
    "    plt.title(f\"City {graph_labels[y_values.name]} vs. {graph_labels[x_values.name]} ({graph_date})\")"
   ]
  },
  {
   "cell_type": "code",
   "execution_count": 63,
   "metadata": {},
   "outputs": [
    {
     "data": {
      "image/png": "[encoded data removed]",
      "text/plain": [
       "<Figure size 432x288 with 1 Axes>"
      ]
     },
     "metadata": {
      "needs_background": "light"
     },
     "output_type": "display_data"
    }
   ],
   "source": [
    "graphs(weather_df[\"Lat\"],weather_df[\"Max Temp\"])\n",
    "plt.show()"
   ]
  },
  {
   "cell_type": "code",
   "execution_count": null,
   "metadata": {
    "scrolled": true
   },
   "outputs": [],
   "source": []
  },
  {
   "cell_type": "markdown",
   "metadata": {},
   "source": [
    "### Latitude vs. Humidity Plot"
   ]
  },
  {
   "cell_type": "code",
   "execution_count": 64,
   "metadata": {},
   "outputs": [
    {
     "data": {
      "image/png": "[encoded data removed]",
      "text/plain": [
       "<Figure size 432x288 with 1 Axes>"
      ]
     },
     "metadata": {
      "needs_background": "light"
     },
     "output_type": "display_data"
    }
   ],
   "source": [
    "graphs(weather_df[\"Lat\"],weather_df[\"Humidity\"])\n",
    "plt.show()"
   ]
  },
  {
   "cell_type": "markdown",
   "metadata": {},
   "source": [
    "### Latitude vs. Cloudiness Plot"
   ]
  },
  {
   "cell_type": "code",
   "execution_count": 65,
   "metadata": {},
   "outputs": [
    {
     "data": {
      "image/png": "[encoded data removed]",
      "text/plain": [
       "<Figure size 432x288 with 1 Axes>"
      ]
     },
     "metadata": {
      "needs_background": "light"
     },
     "output_type": "display_data"
    }
   ],
   "source": [
    "graphs(weather_df[\"Lat\"],weather_df[\"Cloudiness\"])\n",
    "plt.show()"
   ]
  },
  {
   "cell_type": "markdown",
   "metadata": {},
   "source": [
    "### Latitude vs. Wind Speed Plot"
   ]
  },
  {
   "cell_type": "code",
   "execution_count": 66,
   "metadata": {},
   "outputs": [
    {
     "data": {
      "image/png": "[encoded data removed]",
      "text/plain": [
       "<Figure size 432x288 with 1 Axes>"
      ]
     },
     "metadata": {
      "needs_background": "light"
     },
     "output_type": "display_data"
    }
   ],
   "source": [
    "graphs(weather_df[\"Lat\"],weather_df[\"Wind Speed\"])\n",
    "plt.show()"
   ]
  },
  {
   "cell_type": "markdown",
   "metadata": {},
   "source": [
    "## Linear Regression"
   ]
  },
  {
   "cell_type": "markdown",
   "metadata": {},
   "source": [
    "### Write linear regression plot function (optional)"
   ]
  },
  {
   "cell_type": "code",
   "execution_count": 91,
   "metadata": {},
   "outputs": [],
   "source": [
    "def regressions(x_values, y_values):\n",
    "    graphs(x_values,y_values)\n",
    "    \n",
    "    (slope, intercept, rvalue, pvalue, stderr) = linregress(x_values, y_values)\n",
    "    line_eq = f\"y = {round(slope,2)}x + {round(intercept,2)}\"\n",
    "    regress_values = x_values * slope + intercept\n",
    "\n",
    "    plt.plot(x_values, regress_values, color=\"red\")\n",
    "    plt.annotate(line_eq, xy=(0.60, 0.90), xycoords='axes fraction', fontsize=15, color=\"red\")\n",
    "    \n",
    "    print(f\"The data can be approximated with {line_eq}.\")\n",
    "    print(f\"The r-value is {round(rvalue, 4)}. R-squared is {round(rvalue**2, 4)}.\")"
   ]
  },
  {
   "cell_type": "markdown",
   "metadata": {},
   "source": [
    "###  Northern Hemisphere - Max Temp vs. Latitude Linear Regression"
   ]
  },
  {
   "cell_type": "code",
   "execution_count": 92,
   "metadata": {},
   "outputs": [
    {
     "name": "stdout",
     "output_type": "stream",
     "text": [
      "The data can be approximated with y = -0.5x + 33.17.\n",
      "The r-value is -0.8762. R-squared is 0.7677.\n"
     ]
    },
    {
     "data": {
      "image/png": "[encoded data removed]",
      "text/plain": [
       "<Figure size 432x288 with 1 Axes>"
      ]
     },
     "metadata": {
      "needs_background": "light"
     },
     "output_type": "display_data"
    }
   ],
   "source": [
    "regressions(weather_df[\"Lat\"].loc[weather_df[\"Lat\"]>0],weather_df[\"Max Temp\"].loc[weather_df[\"Lat\"]>0])\n",
    "plt.show()"
   ]
  },
  {
   "cell_type": "markdown",
   "metadata": {},
   "source": [
    "###  Southern Hemisphere - Max Temp vs. Latitude Linear Regression"
   ]
  },
  {
   "cell_type": "code",
   "execution_count": 93,
   "metadata": {},
   "outputs": [
    {
     "name": "stdout",
     "output_type": "stream",
     "text": [
      "The data can be approximated with y = 0.31x + 28.45.\n",
      "The r-value is 0.6971. R-squared is 0.486.\n"
     ]
    },
    {
     "data": {
      "image/png": "[encoded data removed]",
      "text/plain": [
       "<Figure size 432x288 with 1 Axes>"
      ]
     },
     "metadata": {
      "needs_background": "light"
     },
     "output_type": "display_data"
    }
   ],
   "source": [
    "regressions(weather_df[\"Lat\"].loc[weather_df[\"Lat\"]<0],weather_df[\"Max Temp\"].loc[weather_df[\"Lat\"]<0])\n",
    "plt.show()"
   ]
  },
  {
   "cell_type": "markdown",
   "metadata": {},
   "source": [
    "###  Northern Hemisphere - Humidity (%) vs. Latitude Linear Regression"
   ]
  },
  {
   "cell_type": "code",
   "execution_count": null,
   "metadata": {},
   "outputs": [],
   "source": []
  },
  {
   "cell_type": "markdown",
   "metadata": {},
   "source": [
    "###  Southern Hemisphere - Humidity (%) vs. Latitude Linear Regression"
   ]
  },
  {
   "cell_type": "code",
   "execution_count": null,
   "metadata": {},
   "outputs": [],
   "source": []
  },
  {
   "cell_type": "markdown",
   "metadata": {},
   "source": [
    "###  Northern Hemisphere - Cloudiness (%) vs. Latitude Linear Regression"
   ]
  },
  {
   "cell_type": "code",
   "execution_count": null,
   "metadata": {},
   "outputs": [],
   "source": []
  },
  {
   "cell_type": "markdown",
   "metadata": {},
   "source": [
    "###  Southern Hemisphere - Cloudiness (%) vs. Latitude Linear Regression"
   ]
  },
  {
   "cell_type": "code",
   "execution_count": null,
   "metadata": {},
   "outputs": [],
   "source": []
  },
  {
   "cell_type": "markdown",
   "metadata": {},
   "source": [
    "###  Northern Hemisphere - Wind Speed (mph) vs. Latitude Linear Regression"
   ]
  },
  {
   "cell_type": "code",
   "execution_count": null,
   "metadata": {},
   "outputs": [],
   "source": []
  },
  {
   "cell_type": "markdown",
   "metadata": {},
   "source": [
    "###  Southern Hemisphere - Wind Speed (mph) vs. Latitude Linear Regression"
   ]
  },
  {
   "cell_type": "code",
   "execution_count": null,
   "metadata": {},
   "outputs": [],
   "source": []
  },
  {
   "cell_type": "code",
   "execution_count": null,
   "metadata": {},
   "outputs": [],
   "source": []
  }
 ],
 "metadata": {
  "anaconda-cloud": {},
  "kernel_info": {
   "name": "python3"
  },
  "kernelspec": {
   "display_name": "Python 3",
   "language": "python",
   "name": "python3"
  },
  "language_info": {
   "codemirror_mode": {
    "name": "ipython",
    "version": 3
   },
   "file_extension": ".py",
   "mimetype": "text/x-python",
   "name": "python",
   "nbconvert_exporter": "python",
   "pygments_lexer": "ipython3",
   "version": "3.6.10"
  },
  "latex_envs": {
   "LaTeX_envs_menu_present": true,
   "autoclose": false,
   "autocomplete": true,
   "bibliofile": "biblio.bib",
   "cite_by": "apalike",
   "current_citInitial": 1,
   "eqLabelWithNumbers": true,
   "eqNumInitial": 1,
   "hotkeys": {
    "equation": "Ctrl-E",
    "itemize": "Ctrl-I"
   },
   "labels_anchors": false,
   "latex_user_defs": false,
   "report_style_numbering": false,
   "user_envs_cfg": false
  },
  "nteract": {
   "version": "0.12.3"
  },
  "toc": {
   "base_numbering": 1,
   "nav_menu": {},
   "number_sections": true,
   "sideBar": true,
   "skip_h1_title": false,
   "title_cell": "Table of Contents",
   "title_sidebar": "Contents",
   "toc_cell": false,
   "toc_position": {},
   "toc_section_display": true,
   "toc_window_display": false
  },
  "varInspector": {
   "cols": {
    "lenName": 16,
    "lenType": 16,
    "lenVar": 40
   },
   "kernels_config": {
    "python": {
     "delete_cmd_postfix": "",
     "delete_cmd_prefix": "del ",
     "library": "var_list.py",
     "varRefreshCmd": "print(var_dic_list())"
    },
    "r": {
     "delete_cmd_postfix": ") ",
     "delete_cmd_prefix": "rm(",
     "library": "var_list.r",
     "varRefreshCmd": "cat(var_dic_list()) "
    }
   },
   "types_to_exclude": [
    "module",
    "function",
    "builtin_function_or_method",
    "instance",
    "_Feature"
   ],
   "window_display": false
  }
 },
 "nbformat": 4,
 "nbformat_minor": 2
}
